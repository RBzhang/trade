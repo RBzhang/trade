{
 "cells": [
  {
   "cell_type": "code",
   "execution_count": 3,
   "metadata": {},
   "outputs": [],
   "source": [
    "import pandas as pd\n",
    "\n",
    "data = pd.read_csv('../datasets/deribit_book_snapshot_25_2019-11-01_BTC-PERPETUAL.csv')\n",
    "data_trades = pd.read_csv('../datasets/deribit_trades_2019-11-01_BTC-PERPETUAL.csv')\n",
    "data_quote = pd.read_csv('../datasets/deribit_quotes_2019-11-01_BTC-PERPETUAL.csv')\n",
    "data_liquidations = pd.read_csv('../datasets/deribit_liquidations_2019-11-01_BTC-PERPETUAL.csv')\n",
    "data_derivative_ticker = pd.read_csv('../datasets/deribit_derivative_ticker_2019-11-01_BTC-PERPETUAL.csv')"
   ]
  },
  {
   "cell_type": "code",
   "execution_count": 16,
   "metadata": {},
   "outputs": [],
   "source": [
    "data['timestamp'] = pd.to_datetime(data['timestamp']/1000000, unit='s')\n",
    "data_trades['timestamp'] = pd.to_datetime(data_trades['timestamp']/1000000, unit='s')\n",
    "data_quote['timestamp'] = pd.to_datetime(data_quote['timestamp']/1000000, unit='s')\n",
    "data_liquidations['timestamp'] = pd.to_datetime(data_liquidations['timestamp']/1000000, unit='s')\n",
    "data_derivative_ticker['timestamp'] = pd.to_datetime(data_derivative_ticker['timestamp']/1000000, unit='s')"
   ]
  },
  {
   "cell_type": "code",
   "execution_count": 1,
   "metadata": {},
   "outputs": [
    {
     "ename": "NameError",
     "evalue": "name 'data' is not defined",
     "output_type": "error",
     "traceback": [
      "\u001b[0;31m---------------------------------------------------------------------------\u001b[0m",
      "\u001b[0;31mNameError\u001b[0m                                 Traceback (most recent call last)",
      "Cell \u001b[0;32mIn[1], line 1\u001b[0m\n\u001b[0;32m----> 1\u001b[0m data\n",
      "\u001b[0;31mNameError\u001b[0m: name 'data' is not defined"
     ]
    }
   ],
   "source": [
    "data"
   ]
  },
  {
   "cell_type": "code",
   "execution_count": null,
   "metadata": {},
   "outputs": [],
   "source": [
    "data"
   ]
  }
 ],
 "metadata": {
  "kernelspec": {
   "display_name": "Python 3",
   "language": "python",
   "name": "python3"
  },
  "language_info": {
   "codemirror_mode": {
    "name": "ipython",
    "version": 3
   },
   "file_extension": ".py",
   "mimetype": "text/x-python",
   "name": "python",
   "nbconvert_exporter": "python",
   "pygments_lexer": "ipython3",
   "version": "3.12.1"
  }
 },
 "nbformat": 4,
 "nbformat_minor": 2
}
