{
 "cells": [
  {
   "cell_type": "code",
   "execution_count": 3,
   "id": "ea1b7e0e",
   "metadata": {},
   "outputs": [
    {
     "name": "stderr",
     "output_type": "stream",
     "text": [
      "DEBUG:tardis_dev.datasets.download:download started for okex-swap trades BTC-USD-SWAP from 2020-01-01 to 2020-01-02\n",
      "DEBUG:tardis_dev.datasets.download:download finished for okex-swap trades BTC-USD-SWAP from 2020-01-01 to 2020-01-02, total time: 4.36666464805603 seconds\n",
      "DEBUG:tardis_dev.datasets.download:download started for okex-swap quotes BTC-USD-SWAP from 2020-01-01 to 2020-01-02\n",
      "DEBUG:tardis_dev.datasets.download:download finished for okex-swap quotes BTC-USD-SWAP from 2020-01-01 to 2020-01-02, total time: 2.6816585063934326 seconds\n",
      "DEBUG:tardis_dev.datasets.download:download started for okex-swap derivative_ticker BTC-USD-SWAP from 2020-01-01 to 2020-01-02\n",
      "DEBUG:tardis_dev.datasets.download:download finished for okex-swap derivative_ticker BTC-USD-SWAP from 2020-01-01 to 2020-01-02, total time: 1.772019386291504 seconds\n",
      "DEBUG:tardis_dev.datasets.download:download started for okex-swap book_snapshot_25 BTC-USD-SWAP from 2020-01-01 to 2020-01-02\n",
      "DEBUG:tardis_dev.datasets.download:download finished for okex-swap book_snapshot_25 BTC-USD-SWAP from 2020-01-01 to 2020-01-02, total time: 3.7564916610717773 seconds\n",
      "DEBUG:tardis_dev.datasets.download:download started for okex-swap book_snapshot_5 BTC-USD-SWAP from 2020-01-01 to 2020-01-02\n",
      "DEBUG:tardis_dev.datasets.download:download finished for okex-swap book_snapshot_5 BTC-USD-SWAP from 2020-01-01 to 2020-01-02, total time: 2.418604612350464 seconds\n"
     ]
    }
   ],
   "source": [
    "from tardis_dev import datasets, get_exchange_details\n",
    "import logging\n",
    "import nest_asyncio\n",
    "nest_asyncio.apply()\n",
    "# comment out to disable debug logs\n",
    "logging.basicConfig(level=logging.DEBUG)\n",
    "\n",
    "# function used by default if not provided via options\n",
    "def default_file_name(exchange, data_type, date, symbol, format):\n",
    "    return f\"{exchange}_{data_type}_{date.strftime('%Y-%m-%d')}_{symbol}.{format}.gz\"\n",
    "\n",
    "\n",
    "# customized get filename function - saves data in nested directory structure\n",
    "def file_name_nested(exchange, data_type, date, symbol, format):\n",
    "    return f\"{exchange}/{data_type}/{date.strftime('%Y-%m-%d')}_{symbol}.{format}.gz\"\n",
    "\n",
    "\n",
    "# returns data available at https://api.tardis.dev/v1/exchanges/deribit\n",
    "deribit_details = get_exchange_details(\"okex-swap\")\n",
    "# print(deribit_details)\n",
    "\n",
    "datasets.download(\n",
    "    # one of https://api.tardis.dev/v1/exchanges with supportsDatasets:true - use 'id' value\n",
    "    exchange=\"okex-swap\",\n",
    "    # accepted data types - 'datasets.symbols[].dataTypes' field in https://api.tardis.dev/v1/exchanges/deribit,\n",
    "    # or get those values from 'deribit_details[\"datasets\"][\"symbols][][\"dataTypes\"] dict above\n",
    "    data_types=[ \"trades\", \"quotes\", \"derivative_ticker\", \"book_snapshot_25\", \"book_snapshot_5\"],\n",
    "    # change date ranges as needed to fetch full month or year for example\n",
    "    from_date=\"2020-01-01\",\n",
    "    # to date is non inclusive\n",
    "    to_date=\"2020-01-02\",\n",
    "    # accepted values: 'datasets.symbols[].id' field in https://api.tardis.dev/v1/exchanges/deribit\n",
    "    symbols=[\"BTC-USD-SWAP\"],\n",
    "    # (optional) your API key to get access to non sample data as well\n",
    "    api_key=\"TD.28DTwLrn3f988WRM.w3hZLmc9mf2kbFO.OrGHMJWJZldog5f.Qob9tqB1fLEbb9l.0-x0-FrbU6jD9Dz.n2vg\",\n",
    "    # (optional) path where data will be downloaded into, default dir is './datasets'\n",
    "    # download_dir=\"./datasets\",\n",
    "    # (optional) - one can customize downloaded file name/path (flat dir strucure, or nested etc) - by default function 'default_file_name' is used\n",
    "    # get_filename=default_file_name,\n",
    "    # (optional) file_name_nested will download data to nested directory structure (split by exchange and data type)\n",
    "    # get_filename=file_name_nested,\n",
    ")"
   ]
  }
 ],
 "metadata": {
  "language_info": {
   "name": "python"
  }
 },
 "nbformat": 4,
 "nbformat_minor": 5
}
